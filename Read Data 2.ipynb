{
 "metadata": {
  "name": ""
 },
 "nbformat": 3,
 "nbformat_minor": 0,
 "worksheets": [
  {
   "cells": [
    {
     "cell_type": "code",
     "collapsed": false,
     "input": [
      "def read_headers(file):\n",
      "    headers = {}\n",
      "    for line in file:\n",
      "        line = line.strip().decode('ascii')\n",
      "        if (not line) or line == \"jMRUI Data Textfile\":\n",
      "            continue\n",
      "        if line == 'Signal and FFT':\n",
      "            break\n",
      "        k, v = line.split(\": \", 1)\n",
      "        headers[k] = v\n",
      "    return headers"
     ],
     "language": "python",
     "metadata": {},
     "outputs": [],
     "prompt_number": 1
    },
    {
     "cell_type": "code",
     "collapsed": false,
     "input": [
      "import pandas\n",
      "from io import BytesIO\n",
      "import re\n",
      "group_header_re = re.compile(b\"Signal (\\d+) out of (\\d+) in file\")\n",
      "def read_spectra(file, rows=4096):\n",
      "    colnames = file.readline().strip().decode('ascii').split()\n",
      "    while True:\n",
      "        signal_match = group_header_re.match(file.readline().strip())\n",
      "        sig, total = signal_match.groups()\n",
      "        #print(sig, total)\n",
      "        s = BytesIO()\n",
      "        for _ in range(rows):\n",
      "            s.write(file.readline())\n",
      "        yield pandas.read_csv(s, sep='\\t', names=colnames)\n",
      "        if sig == total:\n",
      "            return"
     ],
     "language": "python",
     "metadata": {},
     "outputs": [],
     "prompt_number": 2
    },
    {
     "cell_type": "code",
     "collapsed": false,
     "input": [
      "%%timeit\n",
      "with open(\"test_v1_data.txt\", \"rb\") as f:\n",
      "    headers = read_headers(f)\n",
      "    points_per_ds = int(headers['PointsInDataset'])\n",
      "    on, off = [], []\n",
      "    for i, spectrum in enumerate(read_spectra(f, points_per_ds)):\n",
      "        if i % 3 == 0:\n",
      "            on.append(spectrum)\n",
      "        elif i % 3 == 1:\n",
      "            off.append(spectrum)"
     ],
     "language": "python",
     "metadata": {},
     "outputs": [
      {
       "output_type": "stream",
       "stream": "stdout",
       "text": [
        "1 loops, best of 3: 146 ms per loop\n"
       ]
      }
     ],
     "prompt_number": 5
    },
    {
     "cell_type": "code",
     "collapsed": false,
     "input": [
      "len(on), len(off)"
     ],
     "language": "python",
     "metadata": {},
     "outputs": [
      {
       "metadata": {},
       "output_type": "pyout",
       "prompt_number": 4,
       "text": [
        "(16, 16)"
       ]
      }
     ],
     "prompt_number": 4
    },
    {
     "cell_type": "code",
     "collapsed": false,
     "input": [],
     "language": "python",
     "metadata": {},
     "outputs": []
    }
   ],
   "metadata": {}
  }
 ]
}