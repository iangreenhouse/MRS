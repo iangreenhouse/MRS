{
 "metadata": {
  "name": ""
 },
 "nbformat": 3,
 "nbformat_minor": 0,
 "worksheets": [
  {
   "cells": [
    {
     "cell_type": "code",
     "collapsed": false,
     "input": [
      "import re\n",
      "from StringIO import StringIO\n",
      "# from zipfile import ZipFile\n",
      "from gzip import GzipFile\n",
      "\n",
      "import pandas as pd"
     ],
     "language": "python",
     "metadata": {},
     "outputs": [],
     "prompt_number": 60
    },
    {
     "cell_type": "code",
     "collapsed": false,
     "input": [
      "colnames = ('sig_real', 'sig_imag', 'fft_real', 'fft_imag')\n",
      "# raw = file('test_v1_data.txt', 'rU').read()\n",
      "# Note: neither of these supports universal newline (anymore - zipfile used to)\n",
      "# raw = ZipFile('test_v1_data.txt.zip', 'r').open('test_v1_data.txt', 'U').read()\n",
      "raw = GzipFile('test_v1_data.txt.gz', 'r').read()"
     ],
     "language": "python",
     "metadata": {},
     "outputs": [],
     "prompt_number": 71
    },
    {
     "cell_type": "code",
     "collapsed": false,
     "input": [
      "raw[:100]"
     ],
     "language": "python",
     "metadata": {},
     "outputs": [
      {
       "metadata": {},
       "output_type": "pyout",
       "prompt_number": 72,
       "text": [
        "'jMRUI Data Textfile\\r\\n\\r\\nFilename: multiple_v1_082613b.txt\\r\\n\\r\\nPointsInDataset: 4096      \\r\\nDatasetsInF'"
       ]
      }
     ],
     "prompt_number": 72
    },
    {
     "cell_type": "code",
     "collapsed": false,
     "input": [
      "chunks = re.split('Signal \\d+ out of \\d+ in file\\r\\n', raw)[1:]"
     ],
     "language": "python",
     "metadata": {},
     "outputs": [],
     "prompt_number": 76
    },
    {
     "cell_type": "code",
     "collapsed": false,
     "input": [
      "len(chunks)"
     ],
     "language": "python",
     "metadata": {},
     "outputs": [
      {
       "metadata": {},
       "output_type": "pyout",
       "prompt_number": 77,
       "text": [
        "48"
       ]
      }
     ],
     "prompt_number": 77
    },
    {
     "cell_type": "code",
     "collapsed": false,
     "input": [
      "data = []\n",
      "for c in chunks:\n",
      "    data.append(pd.read_csv(StringIO(c), sep='\\t', names=colnames))"
     ],
     "language": "python",
     "metadata": {},
     "outputs": [],
     "prompt_number": 78
    },
    {
     "cell_type": "code",
     "collapsed": false,
     "input": [
      "data[0].iloc[-1]"
     ],
     "language": "python",
     "metadata": {},
     "outputs": [
      {
       "metadata": {},
       "output_type": "pyout",
       "prompt_number": 79,
       "text": [
        "sig_real     0.000\n",
        "sig_imag     0.000\n",
        "fft_real    40.681\n",
        "fft_imag   -48.498\n",
        "Name: 4095, dtype: float64"
       ]
      }
     ],
     "prompt_number": 79
    }
   ],
   "metadata": {}
  }
 ]
}